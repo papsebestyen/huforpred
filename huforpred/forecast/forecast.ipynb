{
 "cells": [
  {
   "cell_type": "markdown",
   "id": "defe5457",
   "metadata": {},
   "source": [
    "# 0. Packages"
   ]
  },
  {
   "cell_type": "code",
   "execution_count": 1,
   "id": "574a5215",
   "metadata": {
    "ExecuteTime": {
     "end_time": "2022-05-22T00:19:54.022344Z",
     "start_time": "2022-05-22T00:19:53.483038Z"
    }
   },
   "outputs": [],
   "source": [
    "import matplotlib.pyplot as plt\n",
    "import numpy as np\n",
    "import pandas as pd\n",
    "import tensorflow as tf\n",
    "\n",
    "from metrics import forecast_profit_score, rmse, mape\n",
    "from pathlib import Path\n",
    "\n",
    "from sklearn.metrics import accuracy_score, confusion_matrix, f1_score\n",
    "from sklearn.model_selection import GridSearchCV\n",
    "\n",
    "from sktime.forecasting.compose import DirectTabularRegressionForecaster\n",
    "from sktime.forecasting.base import ForecastingHorizon\n",
    "from sktime.forecasting.model_evaluation import evaluate\n",
    "from sktime.forecasting.model_selection import SlidingWindowSplitter\n",
    "from sktime.transformations.compose import TransformerPipeline\n",
    "from sktime.transformations.panel.compose import ColumnTransformer\n",
    "from sktime.transformations.series.boxcox import LogTransformer\n",
    "from sktime.transformations.series.cos import CosineTransformer\n",
    "from sktime.transformations.series.difference import Differencer\n",
    "from sktime.transformations.series.summarize import WindowSummarizer\n",
    "\n",
    "from xgboost import XGBRegressor, XGBClassifier"
   ]
  },
  {
   "cell_type": "markdown",
   "id": "91b96ff3",
   "metadata": {},
   "source": [
    "# 1. Data preparation"
   ]
  },
  {
   "cell_type": "code",
   "execution_count": 2,
   "id": "3ea894d8",
   "metadata": {},
   "outputs": [],
   "source": [
    "df = pd.read_parquet(\"final_data.parquet\")"
   ]
  },
  {
   "cell_type": "code",
   "execution_count": 3,
   "id": "c3cf6196",
   "metadata": {
    "ExecuteTime": {
     "end_time": "2022-05-22T03:04:22.679786Z",
     "start_time": "2022-05-22T03:04:22.668704Z"
    }
   },
   "outputs": [],
   "source": [
    "df[\"Range\"] = (\n",
    "    np.log(df[\"High\"]) - np.log(df[\"Low\"])\n",
    ")"
   ]
  },
  {
   "cell_type": "code",
   "execution_count": 4,
   "id": "1d05222a",
   "metadata": {
    "ExecuteTime": {
     "end_time": "2022-05-22T03:18:01.185697Z",
     "start_time": "2022-05-22T03:18:01.178449Z"
    }
   },
   "outputs": [],
   "source": [
    "def get_lag_creator(df, **kwargs):\n",
    "    for column, lags in kwargs.items():\n",
    "        for lag in lags:\n",
    "            df = df.assign(**{f\"{column}_l{lag}\": lambda _df: _df[column].shift(lag)})\n",
    "    df.drop(columns = kwargs.keys(), inplace = True)\n",
    "    return df"
   ]
  },
  {
   "cell_type": "code",
   "execution_count": 5,
   "id": "b2957cd0",
   "metadata": {
    "ExecuteTime": {
     "end_time": "2022-05-22T03:13:08.901904Z",
     "start_time": "2022-05-22T03:13:08.881489Z"
    }
   },
   "outputs": [],
   "source": [
    "price_transformer = TransformerPipeline(\n",
    "    [(\"log\", LogTransformer()), (\"differce\", Differencer(lags=1, drop_na=True))]\n",
    ")\n",
    "\n",
    "col_transformer = ColumnTransformer(\n",
    "    [\n",
    "        (\"price\", price_transformer, [\"Close\", \"Open\", \"High\", \"Low\"]),\n",
    "        (\"trading\", LogTransformer(), [\"Volume\", \"Range\"]),\n",
    "        (\n",
    "            \"time\",\n",
    "            CosineTransformer(),\n",
    "            [\"month\", \"day\", \"dayofweek\"],\n",
    "        ),\n",
    "        (\"forum\", Differencer(lags=1, drop_na=True), [\"comment_count\"]),\n",
    "    ]\n",
    ")\n",
    "\n",
    "kwargs = {\n",
    "    \"target_cols\": [\n",
    "        \"Open\",\n",
    "        \"High\",\n",
    "        \"Low\",\n",
    "        \"Volume\",\n",
    "        \"comment_count\",\n",
    "        \"month\",\n",
    "        \"day\",\n",
    "        \"dayofweek\",\n",
    "        \"Range\",\n",
    "    ],\n",
    "    \"lag_config\": {\n",
    "        \"lag\": [\"lag\", [[0, l] for l in range(7)]],\n",
    "    },\n",
    "}\n",
    "\n",
    "transformer_pipe = TransformerPipeline([(\"column\", col_transformer)])"
   ]
  },
  {
   "cell_type": "code",
   "execution_count": 6,
   "id": "154e782f",
   "metadata": {
    "ExecuteTime": {
     "end_time": "2022-05-22T03:12:11.522359Z",
     "start_time": "2022-05-22T03:12:11.470644Z"
    },
    "scrolled": false
   },
   "outputs": [],
   "source": [
    "transformed_df = col_transformer.fit_transform(\n",
    "    X=df.dropna().reset_index(drop=True)\n",
    ").dropna()"
   ]
  },
  {
   "cell_type": "code",
   "execution_count": 7,
   "id": "54179abe",
   "metadata": {
    "ExecuteTime": {
     "end_time": "2022-05-22T03:18:04.786824Z",
     "start_time": "2022-05-22T03:18:04.597574Z"
    }
   },
   "outputs": [],
   "source": [
    "lagged_df = get_lag_creator(\n",
    "    transformed_df,\n",
    "    **{\n",
    "        c: [*range(1, 15)]\n",
    "        for c in [\n",
    "            \"Open\",\n",
    "            \"High\",\n",
    "            \"Low\",\n",
    "            \"Volume\",\n",
    "            \"comment_count\",\n",
    "            \"month\",\n",
    "            \"day\",\n",
    "            \"dayofweek\",\n",
    "            \"Range\",\n",
    "        ]\n",
    "    },**{'Close': [*range(0,15)]}\n",
    ").dropna()"
   ]
  },
  {
   "cell_type": "code",
   "execution_count": 8,
   "id": "191a21b1",
   "metadata": {},
   "outputs": [],
   "source": [
    "y_test = lagged_df[\"Close_l0\"]"
   ]
  },
  {
   "cell_type": "code",
   "execution_count": 9,
   "id": "a86b10d0",
   "metadata": {},
   "outputs": [],
   "source": [
    "# for classification\n",
    "lagged_df[\"Close_l0\"] = lagged_df[\"Close_l0\"].apply(lambda x: 1 if x >= 0 else 0)"
   ]
  },
  {
   "cell_type": "code",
   "execution_count": 10,
   "id": "e1ce6918",
   "metadata": {
    "ExecuteTime": {
     "end_time": "2022-05-22T10:41:28.932710Z",
     "start_time": "2022-05-22T10:41:28.925643Z"
    }
   },
   "outputs": [],
   "source": [
    "y = lagged_df[\"Close_l0\"]\n",
    "X = lagged_df.drop(columns=[\"Close_l0\"])\n",
    "# Use this if you don't want to include the forum data\n",
    "# .loc[:, ~lagged_df.columns.str.startswith(\"comment_\")]"
   ]
  },
  {
   "cell_type": "markdown",
   "id": "120ab68e",
   "metadata": {},
   "source": [
    "# 2. XGBoost Classifier - Hyperparameter tuning"
   ]
  },
  {
   "cell_type": "markdown",
   "id": "29ff62e7",
   "metadata": {},
   "source": [
    "* Az első 500 napon paraméter optimalizálunk grid search-el"
   ]
  },
  {
   "cell_type": "code",
   "execution_count": 25,
   "id": "69be5ff7",
   "metadata": {},
   "outputs": [],
   "source": [
    "train_data_x = X[:500]\n",
    "train_data_y = y[:500]"
   ]
  },
  {
   "cell_type": "code",
   "execution_count": 60,
   "id": "6498c460",
   "metadata": {},
   "outputs": [],
   "source": [
    "xgb_classifier = XGBClassifier(\n",
    "    learning_rate=0.1,\n",
    "    n_estimators=160,\n",
    "    max_depth=2,\n",
    "    min_child_weight=10,\n",
    "    gamma=0,\n",
    "    n_jobs=1,\n",
    "    eval_metric=f1_score,\n",
    "    random_state=42,\n",
    ")"
   ]
  },
  {
   "cell_type": "code",
   "execution_count": 47,
   "id": "a3481980",
   "metadata": {},
   "outputs": [
    {
     "data": {
      "text/plain": [
       "GridSearchCV(estimator=XGBClassifier(base_score=None, booster=None,\n",
       "                                     callbacks=None, colsample_bylevel=None,\n",
       "                                     colsample_bynode=None,\n",
       "                                     colsample_bytree=None,\n",
       "                                     early_stopping_rounds=None,\n",
       "                                     enable_categorical=False,\n",
       "                                     eval_metric=<function f1_score at 0x15601d680>,\n",
       "                                     gamma=None, gpu_id=None, grow_policy=None,\n",
       "                                     importance_type=None,\n",
       "                                     interaction_constraints=None,\n",
       "                                     learning_rate=0.1, max_bin=None,\n",
       "                                     max_cat_to_onehot=None,\n",
       "                                     max_delta_step=None, max_depth=2,\n",
       "                                     max_leaves=None, min_child_weight=3,\n",
       "                                     missing=nan, monotone_constraints=None,\n",
       "                                     n_estimators=150, n_jobs=20,\n",
       "                                     num_parallel_tree=None, predictor=None,\n",
       "                                     random_state=42, reg_alpha=None,\n",
       "                                     reg_lambda=None, ...),\n",
       "             param_grid={'max_depth': [2, 3, 4],\n",
       "                         'min_child_weight': [8, 9, 10]})"
      ]
     },
     "execution_count": 47,
     "metadata": {},
     "output_type": "execute_result"
    }
   ],
   "source": [
    "param_test1 = {\n",
    "    \"max_depth\": [2, 3, 4, 5],\n",
    "    \"min_child_weight\": [8, 9, 10],\n",
    "    \"learning_rate\": [*np.arange(0, 0.11, 0.01)],\n",
    "    \"min_child_weight\": [8, 9, 10],\n",
    "}\n",
    "\n",
    "\n",
    "gsearch1 = GridSearchCV(estimator=xgb_classifier, param_grid=param_test1,)\n",
    "gsearch1.fit(train_data_x, train_data_y)\n",
    "\n",
    "print(gsearch1.best_estimator_) \n",
    "print(gsearch1.best_params_) \n",
    "print(gsearch1.best_score_)"
   ]
  },
  {
   "cell_type": "code",
   "execution_count": null,
   "id": "eeeb3ee7",
   "metadata": {},
   "outputs": [],
   "source": [
    "xgb_classifier = xgb_classifier.set_params(**gsearch1.best_params_)"
   ]
  },
  {
   "cell_type": "markdown",
   "id": "14ac2a1d",
   "metadata": {},
   "source": [
    "# 3. Feature importance\n",
    "* Az első 500 napon (2év) tanított modell alapján"
   ]
  },
  {
   "cell_type": "code",
   "execution_count": 62,
   "id": "cc01a7fd",
   "metadata": {},
   "outputs": [],
   "source": [
    "xgb_classifier.fit(train_data_x, train_data_y)\n",
    "y_pred = xgb_classifier.predict_proba(X[501:600], iteration_range=(0, 10))"
   ]
  },
  {
   "cell_type": "code",
   "execution_count": 102,
   "id": "ccd73de3",
   "metadata": {},
   "outputs": [
    {
     "data": {
      "text/plain": [
       "Text(0, 0.5, 'Top 20 Features (X)')"
      ]
     },
     "execution_count": 102,
     "metadata": {},
     "output_type": "execute_result"
    },
    {
     "data": {
      "image/png": "[encoded data removed]",
      "text/plain": [
       "<Figure size 1152x1440 with 1 Axes>"
      ]
     },
     "metadata": {
      "needs_background": "light"
     },
     "output_type": "display_data"
    }
   ],
   "source": [
    "fig, ax = plt.subplots(figsize=(16, 20))\n",
    "sorted_idx = xgb_classifier.feature_importances_.argsort()\n",
    "plt.barh(X.columns[sorted_idx][120:140], xgb_classifier.feature_importances_[sorted_idx][120:140])\n",
    "plt.xlabel(\"Xgboost Feature Importance\")\n",
    "plt.ylabel(\"Top 20 Features (X)\")"
   ]
  },
  {
   "cell_type": "markdown",
   "id": "a4a30d9d",
   "metadata": {},
   "source": [
    "# 4. XGBoost Classifier\n",
    "* Az első 500 napon futtatott modellen optimalizált paraméterekkel\n",
    "* 1 napot prediktálunk előre, az előtte lévő 252 nap alapján\n",
    "* Predikció kiértékelése (Cash & Accuracy)"
   ]
  },
  {
   "cell_type": "code",
   "execution_count": null,
   "id": "162a01e6",
   "metadata": {},
   "outputs": [],
   "source": [
    "min_time = 501\n",
    "train_period = 252\n",
    "predictions = []"
   ]
  },
  {
   "cell_type": "code",
   "execution_count": 12,
   "id": "07bbd6d4",
   "metadata": {},
   "outputs": [],
   "source": [
    "for i in range(len(y)):\n",
    "\n",
    "    X_train = X[min_time + i : min_time + train_period + i]\n",
    "    y_train = y[min_time + i : min_time + train_period + i]\n",
    "    X_test = X[min_time + i : min_time + train_period + i + 1]\n",
    "\n",
    "    xgb_classifier.fit(X_train, y_train)\n",
    "    y_pred = xgb_classifier.predict_proba(X_test, iteration_range=(0, 10))\n",
    "    predictions.append(y_pred[-1])\n",
    "\n",
    "    if min_time + train_period + i + 1 == len(y) - 1:\n",
    "        break"
   ]
  },
  {
   "cell_type": "code",
   "execution_count": 13,
   "id": "b2e57ab4",
   "metadata": {
    "collapsed": true
   },
   "outputs": [
    {
     "data": {
      "text/html": [
       "<div>\n",
       "<style scoped>\n",
       "    .dataframe tbody tr th:only-of-type {\n",
       "        vertical-align: middle;\n",
       "    }\n",
       "\n",
       "    .dataframe tbody tr th {\n",
       "        vertical-align: top;\n",
       "    }\n",
       "\n",
       "    .dataframe thead th {\n",
       "        text-align: right;\n",
       "    }\n",
       "</style>\n",
       "<table border=\"1\" class=\"dataframe\">\n",
       "  <thead>\n",
       "    <tr style=\"text-align: right;\">\n",
       "      <th></th>\n",
       "      <th>Close_l0</th>\n",
       "      <th>y_pred</th>\n",
       "    </tr>\n",
       "  </thead>\n",
       "  <tbody>\n",
       "    <tr>\n",
       "      <th>3623</th>\n",
       "      <td>-0.002070</td>\n",
       "      <td>0.475597</td>\n",
       "    </tr>\n",
       "    <tr>\n",
       "      <th>3624</th>\n",
       "      <td>0.021630</td>\n",
       "      <td>0.741688</td>\n",
       "    </tr>\n",
       "    <tr>\n",
       "      <th>3625</th>\n",
       "      <td>0.002416</td>\n",
       "      <td>0.653027</td>\n",
       "    </tr>\n",
       "    <tr>\n",
       "      <th>3626</th>\n",
       "      <td>0.007448</td>\n",
       "      <td>0.608451</td>\n",
       "    </tr>\n",
       "    <tr>\n",
       "      <th>3627</th>\n",
       "      <td>-0.006957</td>\n",
       "      <td>0.446749</td>\n",
       "    </tr>\n",
       "    <tr>\n",
       "      <th>...</th>\n",
       "      <td>...</td>\n",
       "      <td>...</td>\n",
       "    </tr>\n",
       "    <tr>\n",
       "      <th>3869</th>\n",
       "      <td>-0.020977</td>\n",
       "      <td>0.382718</td>\n",
       "    </tr>\n",
       "    <tr>\n",
       "      <th>3870</th>\n",
       "      <td>-0.010263</td>\n",
       "      <td>0.464937</td>\n",
       "    </tr>\n",
       "    <tr>\n",
       "      <th>3871</th>\n",
       "      <td>0.006369</td>\n",
       "      <td>0.316430</td>\n",
       "    </tr>\n",
       "    <tr>\n",
       "      <th>3872</th>\n",
       "      <td>0.033462</td>\n",
       "      <td>0.339045</td>\n",
       "    </tr>\n",
       "    <tr>\n",
       "      <th>3873</th>\n",
       "      <td>-0.001824</td>\n",
       "      <td>0.479411</td>\n",
       "    </tr>\n",
       "  </tbody>\n",
       "</table>\n",
       "<p>251 rows × 2 columns</p>\n",
       "</div>"
      ],
      "text/plain": [
       "      Close_l0    y_pred\n",
       "3623 -0.002070  0.475597\n",
       "3624  0.021630  0.741688\n",
       "3625  0.002416  0.653027\n",
       "3626  0.007448  0.608451\n",
       "3627 -0.006957  0.446749\n",
       "...        ...       ...\n",
       "3869 -0.020977  0.382718\n",
       "3870 -0.010263  0.464937\n",
       "3871  0.006369  0.316430\n",
       "3872  0.033462  0.339045\n",
       "3873 -0.001824  0.479411\n",
       "\n",
       "[251 rows x 2 columns]"
      ]
     },
     "execution_count": 13,
     "metadata": {},
     "output_type": "execute_result"
    }
   ],
   "source": [
    "predictions = [i[0] for i in predictions]\n",
    "result_df = pd.DataFrame(y_test[min_time + 1 : len(y_test)])\n",
    "result_df[\"y_pred\"] = predictions"
   ]
  },
  {
   "cell_type": "code",
   "execution_count": 14,
   "id": "b1a33c31",
   "metadata": {},
   "outputs": [],
   "source": [
    "def kiertekelem(ert_df):\n",
    "\n",
    "    ert_df = ert_df.copy()\n",
    "    ert_df[\"y_pred\"] = ert_df[\"y_pred\"].apply(lambda x: 1 if x > cut_of else 0)\n",
    "\n",
    "    # calculate loss\n",
    "    ert_df.loc[(ert_df[\"Close_l0\"] > 0) & (ert_df[\"y_pred\"] == 1), \"cash\"] = ert_df[\n",
    "        \"Close_l0\"\n",
    "    ]\n",
    "    ert_df.loc[(ert_df[\"Close_l0\"] > 0) & (ert_df[\"y_pred\"] == 0), \"cash\"] = ert_df[\n",
    "        \"Close_l0\"\n",
    "    ].apply(lambda y: -y if y > -0.05 else -0.05)\n",
    "    ert_df.loc[(ert_df[\"Close_l0\"] < 0) & (ert_df[\"y_pred\"] == 0), \"cash\"] = -(\n",
    "        ert_df[\"Close_l0\"]\n",
    "    )\n",
    "    ert_df.loc[(ert_df[\"Close_l0\"] < 0) & (ert_df[\"y_pred\"] == 1), \"cash\"] = ert_df[\n",
    "        \"Close_l0\"\n",
    "    ].apply(lambda y: y if y > -0.05 else -0.05)\n",
    "\n",
    "    # loss column to array\n",
    "    return ert_df.cash.to_numpy()"
   ]
  },
  {
   "cell_type": "code",
   "execution_count": 15,
   "id": "642e614c",
   "metadata": {},
   "outputs": [],
   "source": [
    "eredmenyek = []"
   ]
  },
  {
   "cell_type": "markdown",
   "id": "8f741360",
   "metadata": {},
   "source": [
    "## Cut-off value"
   ]
  },
  {
   "cell_type": "code",
   "execution_count": 16,
   "id": "92bc4b92",
   "metadata": {},
   "outputs": [],
   "source": [
    "for i in range(1,10):\n",
    "    cut_of= i/10 \n",
    "    eredmenyek.append(np.sum(kiertekelem(result_df)))"
   ]
  },
  {
   "cell_type": "code",
   "execution_count": 18,
   "id": "92df0950",
   "metadata": {},
   "outputs": [
    {
     "data": {
      "text/plain": [
       "<AxesSubplot:>"
      ]
     },
     "execution_count": 18,
     "metadata": {},
     "output_type": "execute_result"
    },
    {
     "data": {
      "image/png": "[encoded data removed]",
      "text/plain": [
       "<Figure size 432x288 with 1 Axes>"
      ]
     },
     "metadata": {
      "needs_background": "light"
     },
     "output_type": "display_data"
    }
   ],
   "source": [
    "pd.DataFrame(eredmenyek).plot.bar()"
   ]
  },
  {
   "cell_type": "markdown",
   "id": "8e6dc5e5",
   "metadata": {},
   "source": [
    "## Confusion matrix"
   ]
  },
  {
   "cell_type": "code",
   "execution_count": 20,
   "id": "3d1c6953",
   "metadata": {},
   "outputs": [],
   "source": [
    "y_true = list(y[3607+1:len(y)])\n",
    "predictions = list(result_df[\"y_pred\"].apply(lambda x: 1 if x>0.6 else 0))"
   ]
  },
  {
   "cell_type": "code",
   "execution_count": 21,
   "id": "e1cf028b",
   "metadata": {},
   "outputs": [
    {
     "data": {
      "text/plain": [
       "array([[ 90,  28],\n",
       "       [109,  24]])"
      ]
     },
     "execution_count": 21,
     "metadata": {},
     "output_type": "execute_result"
    }
   ],
   "source": [
    "conmat = confusion_matrix(y_true, predictions)\n",
    "conmat"
   ]
  },
  {
   "cell_type": "markdown",
   "id": "f526f794",
   "metadata": {},
   "source": [
    "# 5. Trading strategy based on predicted probablity"
   ]
  },
  {
   "cell_type": "code",
   "execution_count": null,
   "id": "583a477c",
   "metadata": {},
   "outputs": [],
   "source": []
  },
  {
   "cell_type": "code",
   "execution_count": null,
   "id": "de06592c",
   "metadata": {},
   "outputs": [],
   "source": []
  },
  {
   "cell_type": "code",
   "execution_count": null,
   "id": "e2a46caa",
   "metadata": {},
   "outputs": [],
   "source": []
  },
  {
   "cell_type": "code",
   "execution_count": null,
   "id": "afd4f5dc",
   "metadata": {},
   "outputs": [],
   "source": []
  },
  {
   "cell_type": "code",
   "execution_count": null,
   "id": "e241200d",
   "metadata": {},
   "outputs": [],
   "source": []
  },
  {
   "cell_type": "code",
   "execution_count": null,
   "id": "ca8f97af",
   "metadata": {},
   "outputs": [],
   "source": []
  },
  {
   "cell_type": "code",
   "execution_count": null,
   "id": "62b7cdc3",
   "metadata": {
    "ExecuteTime": {
     "end_time": "2022-05-22T11:25:23.780030Z",
     "start_time": "2022-05-22T11:25:23.264383Z"
    }
   },
   "outputs": [],
   "source": [
    "cv_df.to_pickle('../../data/processed/with_forum.pickle')"
   ]
  },
  {
   "cell_type": "markdown",
   "id": "abeb0af2",
   "metadata": {},
   "source": [
    "# (Regressor)"
   ]
  },
  {
   "cell_type": "code",
   "execution_count": null,
   "id": "80994105",
   "metadata": {
    "ExecuteTime": {
     "end_time": "2022-05-22T09:29:29.617615Z",
     "start_time": "2022-05-22T09:29:29.612736Z"
    }
   },
   "outputs": [],
   "source": [
    "xgb_regressor = XGBRegressor(\n",
    "    n_estimators=150,\n",
    "    max_depth=25,\n",
    "    n_jobs=20,\n",
    "    eval_metric=mape,\n",
    "    random_state=42,\n",
    ")\n",
    "\n",
    "forecaster = DirectTabularRegressionForecaster(estimator=xgb_regressor, window_length=5)"
   ]
  },
  {
   "cell_type": "code",
   "execution_count": null,
   "id": "6a5f6967",
   "metadata": {
    "ExecuteTime": {
     "end_time": "2022-05-22T11:20:50.032567Z",
     "start_time": "2022-05-22T10:41:36.246666Z"
    }
   },
   "outputs": [],
   "source": [
    "fh = ForecastingHorizon(values=1)\n",
    "cv = SlidingWindowSplitter(fh=fh, step_length=1, window_length = 21*12, start_with_window=True)\n",
    "cv_df = fit_predict(y, )\n",
    "cv_df = evaluate(\n",
    "    forecaster=forecaster,\n",
    "    y=y,\n",
    "    X=X,\n",
    "    cv=cv,\n",
    "    strategy=\"refit\",\n",
    "    scoring=rmse,\n",
    "    return_data=True,\n",
    ")"
   ]
  },
  {
   "cell_type": "markdown",
   "id": "79227f29",
   "metadata": {},
   "source": [
    "# Hyperparameter tuning"
   ]
  },
  {
   "cell_type": "code",
   "execution_count": null,
   "id": "28cfa9ac",
   "metadata": {
    "ExecuteTime": {
     "end_time": "2022-05-22T01:06:15.526607Z",
     "start_time": "2022-05-22T01:06:15.522683Z"
    }
   },
   "outputs": [],
   "source": [
    "from sktime.forecasting.model_selection import ForecastingRandomizedSearchCV"
   ]
  },
  {
   "cell_type": "code",
   "execution_count": null,
   "id": "46117644",
   "metadata": {
    "ExecuteTime": {
     "end_time": "2022-05-22T09:08:55.632187Z",
     "start_time": "2022-05-22T08:11:09.670411Z"
    },
    "scrolled": true
   },
   "outputs": [],
   "source": [
    "nested_params = {\n",
    "    \"window_length\": [5, 10, 15, 20, 25, 30],\n",
    "    \"estimator__max_depth\": [12, 13, 14, 15, 16, 17, 18, 19, 20, 21, 22, 23, 24, 25],\n",
    "    \"estimator__n_estimators\": [30, 50, 100, 150, 200, 250],\n",
    "}\n",
    "\n",
    "fh = ForecastingHorizon(values=1)\n",
    "cv = SlidingWindowSplitter(fh=fh, step_length=12*21, window_length = 21*12, start_with_window=True)\n",
    "# cv = ExpandingWindowSplitter(fh=fh, step_length=21, initial_window=21 * 9)\n",
    "nrcv = ForecastingRandomizedSearchCV(\n",
    "    forecaster,\n",
    "    strategy=\"refit\",\n",
    "    cv=cv,\n",
    "    param_distributions=nested_params,\n",
    "    n_iter=1000,\n",
    "    random_state=42,\n",
    "    n_jobs=1,\n",
    "    scoring=rmse,\n",
    "    verbose=1,\n",
    ")\n",
    "nrcv.fit(y, fh=fh)"
   ]
  },
  {
   "cell_type": "code",
   "execution_count": null,
   "id": "00ffa285",
   "metadata": {
    "ExecuteTime": {
     "end_time": "2022-05-22T09:08:55.636924Z",
     "start_time": "2022-05-22T09:08:55.634458Z"
    }
   },
   "outputs": [],
   "source": [
    "import json\n",
    "Path('best_params.json').write_text(json.dumps(nrcv.best_params_))"
   ]
  },
  {
   "cell_type": "code",
   "execution_count": null,
   "id": "52bfc749",
   "metadata": {},
   "outputs": [],
   "source": [
    "feature_important = xgb.get_booster().get_score(importance_type='weight')\n",
    "keys = list(feature_important.keys())\n",
    "values = list(feature_important.values())\n",
    "\n",
    "data = pd.DataFrame(data=values, index=keys, columns=[\"score\"]).sort_values(by = \"score\", ascending=False)\n",
    "plt.figure(figsize= (12,10))\n",
    "sns.barplot(x = data.score , y = data.index, orient = 'h', palette = 'Blues_r')"
   ]
  }
 ],
 "metadata": {
  "interpreter": {
   "hash": "916dbcbb3f70747c44a77c7bcd40155683ae19c65e1c03b4aa3499c5328201f1"
  },
  "kernelspec": {
   "display_name": "Python 3",
   "language": "python",
   "name": "python3"
  },
  "language_info": {
   "codemirror_mode": {
    "name": "ipython",
    "version": 3
   },
   "file_extension": ".py",
   "mimetype": "text/x-python",
   "name": "python",
   "nbconvert_exporter": "python",
   "pygments_lexer": "ipython3",
   "version": "3.7.4"
  },
  "toc": {
   "base_numbering": 1,
   "nav_menu": {},
   "number_sections": true,
   "sideBar": true,
   "skip_h1_title": false,
   "title_cell": "Table of Contents",
   "title_sidebar": "Contents",
   "toc_cell": false,
   "toc_position": {
    "height": "calc(100% - 180px)",
    "left": "10px",
    "top": "150px",
    "width": "320px"
   },
   "toc_section_display": true,
   "toc_window_display": true
  }
 },
 "nbformat": 4,
 "nbformat_minor": 5
}
