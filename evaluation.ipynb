{
 "cells": [
  {
   "cell_type": "code",
   "execution_count": 111,
   "id": "5b64f74d",
   "metadata": {
    "ExecuteTime": {
     "end_time": "2022-05-22T14:27:56.695476Z",
     "start_time": "2022-05-22T14:27:56.691890Z"
    }
   },
   "outputs": [],
   "source": [
    "import pickle\n",
    "from pathlib import Path\n",
    "from matplotlib import pyplot as plt\n",
    "import pandas as pd\n",
    "from sktime.transformations.panel.compose import from_nested_to_2d_array\n",
    "import seaborn as sns\n",
    "from huforpred.forecast.metrics import rmse, mape"
   ]
  },
  {
   "cell_type": "code",
   "execution_count": 136,
   "id": "dc5e3cfe",
   "metadata": {
    "ExecuteTime": {
     "end_time": "2022-05-22T15:05:31.802042Z",
     "start_time": "2022-05-22T15:05:31.798422Z"
    }
   },
   "outputs": [],
   "source": [
    "plt.rcParams[\"figure.figsize\"] = [8, 4]"
   ]
  },
  {
   "cell_type": "code",
   "execution_count": 126,
   "id": "921be42f",
   "metadata": {
    "ExecuteTime": {
     "end_time": "2022-05-22T14:36:44.248858Z",
     "start_time": "2022-05-22T14:36:44.232794Z"
    }
   },
   "outputs": [],
   "source": [
    "original_df = pd.read_parquet('data/processed/final_data.parquet')"
   ]
  },
  {
   "cell_type": "code",
   "execution_count": 36,
   "id": "7723ca12",
   "metadata": {
    "ExecuteTime": {
     "end_time": "2022-05-22T14:08:25.321422Z",
     "start_time": "2022-05-22T14:08:22.004708Z"
    }
   },
   "outputs": [],
   "source": [
    "forecast_forum = pd.read_pickle('with_forum.pickle')\n",
    "forecast_simple = pd.read_pickle('without_forum.pickle')"
   ]
  },
  {
   "cell_type": "code",
   "execution_count": 37,
   "id": "858ed5cf",
   "metadata": {
    "ExecuteTime": {
     "end_time": "2022-05-22T14:08:39.563260Z",
     "start_time": "2022-05-22T14:08:39.466210Z"
    }
   },
   "outputs": [],
   "source": [
    "eval_df_simple = pd.concat(\n",
    "    [\n",
    "        from_nested_to_2d_array(forecast_simple[\"y_test\"])\n",
    "        .iloc[:, 0]\n",
    "        .rename(\"y_test\"),\n",
    "        from_nested_to_2d_array(forecast_simple[\"y_pred\"])\n",
    "        .iloc[:, 0]\n",
    "        .rename(\"y_pred\"),\n",
    "        forecast_simple[\"test_custom_gain_function\"].rename('daily_return')\n",
    "    ],\n",
    "    axis=1,\n",
    ").set_index(original_df.iloc[15 + 252 : -1]['Date'])\n",
    "\n",
    "eval_df_forum = pd.concat(\n",
    "    [\n",
    "        from_nested_to_2d_array(forecast_forum[\"y_test\"])\n",
    "        .iloc[:, 0]\n",
    "        .rename(\"y_test\"),\n",
    "        from_nested_to_2d_array(forecast_forum[\"y_pred\"])\n",
    "        .iloc[:, 0]\n",
    "        .rename(\"y_pred\"),\n",
    "        forecast_forum[\"test_custom_gain_function\"].rename('daily_return')\n",
    "    ],\n",
    "    axis=1,\n",
    ").set_index(original_df.iloc[15 + 252 : -1]['Date'])"
   ]
  },
  {
   "cell_type": "code",
   "execution_count": 137,
   "id": "c0725cff",
   "metadata": {
    "ExecuteTime": {
     "end_time": "2022-05-22T15:05:35.091875Z",
     "start_time": "2022-05-22T15:05:34.801799Z"
    }
   },
   "outputs": [
    {
     "data": {
      "image/png": "[encoded data removed]",
      "text/plain": [
       "<Figure size 576x288 with 1 Axes>"
      ]
     },
     "metadata": {
      "needs_background": "light"
     },
     "output_type": "display_data"
    }
   ],
   "source": [
    "cum_returns = (\n",
    "    pd.concat(\n",
    "        [\n",
    "            eval_df_simple.groupby(pd.Grouper(freq=\"1Y\"))[\"daily_return\"]\n",
    "            .sum()\n",
    "            .to_frame()\n",
    "            .assign(forecast=\"simple\"),\n",
    "            eval_df_forum.groupby(pd.Grouper(freq=\"1Y\"))[\"daily_return\"]\n",
    "            .sum()\n",
    "            .to_frame()\n",
    "            .assign(forecast=\"forum\"),\n",
    "        ]\n",
    "    ).reset_index()\n",
    ")\n",
    "\n",
    "fig, ax = plt.subplots()\n",
    "sns.barplot(data=cum_returns, x=\"Date\", y=\"daily_return\", hue=\"forecast\", ax=ax)\n",
    "\n",
    "fig.savefig('3y_return.png')"
   ]
  },
  {
   "cell_type": "code",
   "execution_count": 138,
   "id": "8d20e0b0",
   "metadata": {
    "ExecuteTime": {
     "end_time": "2022-05-22T15:05:38.705113Z",
     "start_time": "2022-05-22T15:05:38.488291Z"
    }
   },
   "outputs": [
    {
     "data": {
      "image/png": "[encoded data removed]",
      "text/plain": [
       "<Figure size 576x288 with 1 Axes>"
      ]
     },
     "metadata": {
      "needs_background": "light"
     },
     "output_type": "display_data"
    }
   ],
   "source": [
    "cum_returns = (\n",
    "    pd.concat(\n",
    "        [\n",
    "            eval_df_simple.groupby(pd.Grouper(freq=\"3Y\"))[\"daily_return\"]\n",
    "            .sum()\n",
    "            .to_frame()\n",
    "            .assign(forecast=\"simple\"),\n",
    "            eval_df_forum.groupby(pd.Grouper(freq=\"3Y\"))[\"daily_return\"]\n",
    "            .sum()\n",
    "            .to_frame()\n",
    "            .assign(forecast=\"forum\"),\n",
    "        ]\n",
    "    ).reset_index()\n",
    ")\n",
    "\n",
    "fig, ax = plt.subplots()\n",
    "sns.barplot(data=cum_returns, x=\"Date\", y=\"daily_return\", hue=\"forecast\", ax=ax)\n",
    "\n",
    "fig.savefig('1y_return.png')"
   ]
  },
  {
   "cell_type": "code",
   "execution_count": 135,
   "id": "bb6e133e",
   "metadata": {
    "ExecuteTime": {
     "end_time": "2022-05-22T15:01:42.920877Z",
     "start_time": "2022-05-22T15:01:42.912417Z"
    }
   },
   "outputs": [
    {
     "data": {
      "text/plain": [
       "0.0187"
      ]
     },
     "execution_count": 135,
     "metadata": {},
     "output_type": "execute_result"
    }
   ],
   "source": [
    "round(rmse(eval_df_simple['y_test'], eval_df_simple['y_pred']), 5)"
   ]
  },
  {
   "cell_type": "code",
   "execution_count": 133,
   "id": "549062fa",
   "metadata": {
    "ExecuteTime": {
     "end_time": "2022-05-22T15:01:29.941373Z",
     "start_time": "2022-05-22T15:01:29.932593Z"
    }
   },
   "outputs": [
    {
     "data": {
      "text/plain": [
       "0.01848"
      ]
     },
     "execution_count": 133,
     "metadata": {},
     "output_type": "execute_result"
    }
   ],
   "source": [
    "round(rmse(eval_df_forum['y_test'], eval_df_forum['y_pred']), 5)"
   ]
  },
  {
   "cell_type": "code",
   "execution_count": 139,
   "id": "bd6509cd",
   "metadata": {
    "ExecuteTime": {
     "end_time": "2022-05-22T15:44:04.078120Z",
     "start_time": "2022-05-22T15:44:04.068344Z"
    }
   },
   "outputs": [
    {
     "name": "stderr",
     "output_type": "stream",
     "text": [
      "/homeEury/Bigdata/online_media/huforpred/venv/lib/python3.8/site-packages/sktime/performance_metrics/forecasting/_functions.py:1545: FutureWarning: In the percentage error metric functions the default argument symmetric=True is changing to symmetric=False in v0.12.0.\n",
      "  warn(\n"
     ]
    },
    {
     "data": {
      "text/plain": [
       "3.80458"
      ]
     },
     "execution_count": 139,
     "metadata": {},
     "output_type": "execute_result"
    }
   ],
   "source": [
    "round(mape(eval_df_simple['y_test'], eval_df_simple['y_pred']), 5)"
   ]
  },
  {
   "cell_type": "code",
   "execution_count": 140,
   "id": "11e5b97b",
   "metadata": {
    "ExecuteTime": {
     "end_time": "2022-05-22T15:44:06.389744Z",
     "start_time": "2022-05-22T15:44:06.381946Z"
    },
    "scrolled": true
   },
   "outputs": [
    {
     "name": "stderr",
     "output_type": "stream",
     "text": [
      "/homeEury/Bigdata/online_media/huforpred/venv/lib/python3.8/site-packages/sktime/performance_metrics/forecasting/_functions.py:1545: FutureWarning: In the percentage error metric functions the default argument symmetric=True is changing to symmetric=False in v0.12.0.\n",
      "  warn(\n"
     ]
    },
    {
     "data": {
      "text/plain": [
       "3.81131"
      ]
     },
     "execution_count": 140,
     "metadata": {},
     "output_type": "execute_result"
    }
   ],
   "source": [
    "round(mape(eval_df_forum['y_test'], eval_df_forum['y_pred']), 5)"
   ]
  }
 ],
 "metadata": {
  "kernelspec": {
   "display_name": "Python 3 (ipykernel)",
   "language": "python",
   "name": "python3"
  },
  "language_info": {
   "codemirror_mode": {
    "name": "ipython",
    "version": 3
   },
   "file_extension": ".py",
   "mimetype": "text/x-python",
   "name": "python",
   "nbconvert_exporter": "python",
   "pygments_lexer": "ipython3",
   "version": "3.8.10"
  },
  "toc": {
   "base_numbering": 1,
   "nav_menu": {},
   "number_sections": true,
   "sideBar": true,
   "skip_h1_title": false,
   "title_cell": "Table of Contents",
   "title_sidebar": "Contents",
   "toc_cell": false,
   "toc_position": {},
   "toc_section_display": true,
   "toc_window_display": false
  }
 },
 "nbformat": 4,
 "nbformat_minor": 5
}
